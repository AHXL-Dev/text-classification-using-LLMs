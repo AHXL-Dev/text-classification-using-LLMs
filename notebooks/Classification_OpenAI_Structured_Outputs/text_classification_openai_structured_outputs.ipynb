{
 "cells": [
  {
   "cell_type": "code",
   "execution_count": null,
   "id": "cd9052d8",
   "metadata": {},
   "outputs": [],
   "source": [
    "import pandas as pd\n",
    "from typing import List, Literal, Dict\n",
    "from pydantic import BaseModel, Field, field_validator, model_validator, ValidationError\n",
    "from openai import OpenAI\n",
    "import time\n",
    "import os\n",
    "from dotenv import find_dotenv, load_dotenv\n",
    "import logging\n",
    "import tomli\n",
    "import re\n",
    "from sentence_transformers import SentenceTransformer\n"
   ]
  },
  {
   "cell_type": "code",
   "execution_count": null,
   "id": "70699b6c",
   "metadata": {},
   "outputs": [],
   "source": [
    "\n",
    "logging.basicConfig(level=logging.INFO)\n"
   ]
  },
  {
   "cell_type": "markdown",
   "id": "69a01ac8",
   "metadata": {},
   "source": [
    "# Load api key (Currently blank)"
   ]
  },
  {
   "cell_type": "code",
   "execution_count": null,
   "id": "603352fa",
   "metadata": {},
   "outputs": [],
   "source": [
    "\n",
    "client = OpenAI(\n",
    "    base_url=\"https://openrouter.ai/api/v1/\",\n",
    "    api_key=api_key\n",
    ")"
   ]
  },
  {
   "cell_type": "markdown",
   "id": "38842dc2",
   "metadata": {},
   "source": [
    "# Choose model"
   ]
  },
  {
   "cell_type": "code",
   "execution_count": null,
   "id": "d1b72d1d",
   "metadata": {},
   "outputs": [],
   "source": [
    "MODEL_NAME = 'openai/gpt-4o-mini'"
   ]
  },
  {
   "cell_type": "markdown",
   "id": "97e33979",
   "metadata": {},
   "source": [
    "# Load Sample data"
   ]
  },
  {
   "cell_type": "code",
   "execution_count": null,
   "id": "83622e0a",
   "metadata": {},
   "outputs": [],
   "source": [
    "def create_sample_data():\n",
    "    sample_data = [\n",
    "        {\n",
    "            \"Row_ID\": 1,\n",
    "            \"ProblemDescription\": \"I want to know how much my flight bonus will be for next year.\",\n",
    "            \"Resolution\": \"Here’s a link to the bonus calculation guidelines.\",\n",
    "            \"CustomerFeedback\": \"I wasn’t contacted and got a generic response with no specifics.\"\n",
    "        },\n",
    "    \n",
    "        {\n",
    "            \"Row_ID\": 2,\n",
    "            \"ProblemDescription\": \"Why is my ticket cost higher than usual?\",\n",
    "            \"Resolution\": \"The price reflects new seasonal rates.\",\n",
    "            \"CustomerFeedback\": \"I don’t understand why the cost increased. No detailed explanation.\"\n",
    "        },\n",
    "        {\n",
    "            \"Row_ID\": 3,\n",
    "            \"ProblemDescription\": \"When will my refund for the canceled flight be processed?\",\n",
    "            \"Resolution\": \"Refunds typically take 4-6 weeks to process.\",\n",
    "            \"CustomerFeedback\": \"I received a generic timeline. No specific details for my case.\"\n",
    "        },\n",
    "        {\n",
    "            \"Row_ID\": 4,\n",
    "            \"ProblemDescription\": \"I can’t access my flight booking details.\",\n",
    "            \"Resolution\": \"You can access them directly on the website by logging in.\",\n",
    "            \"CustomerFeedback\": \"The website is not working, and the advice didn’t help.\"\n",
    "        },\n",
    "        {\n",
    "            \"Row_ID\": 5,\n",
    "            \"ProblemDescription\": \"How do I reset my password for my booking account?\",\n",
    "            \"Resolution\": \"Follow the steps in the attached guide to reset your password.\",\n",
    "            \"CustomerFeedback\": \"The guide wasn’t clear, I couldn’t reset my password.\"\n",
    "        },\n",
    "        {\n",
    "            \"Row_ID\": 6,\n",
    "            \"ProblemDescription\": \"Why hasn’t my refund been processed yet?\",\n",
    "            \"Resolution\": \"Refunds are processed at the end of each month.\",\n",
    "            \"CustomerFeedback\": \"I wasn’t informed why my refund was delayed.\"\n",
    "        },\n",
    "        {\n",
    "            \"Row_ID\": 7,\n",
    "            \"ProblemDescription\": \"Can you explain the process for claiming a flight delay compensation?\",\n",
    "            \"Resolution\": \"Please refer to the compensation policy document linked here.\",\n",
    "            \"CustomerFeedback\": \"The document is too complicated, and I didn’t find any clear answers.\"\n",
    "        },\n",
    "        {\n",
    "            \"Row_ID\": 8,\n",
    "            \"ProblemDescription\": \"I need help with making a group booking for my department.\",\n",
    "            \"Resolution\": \"Here’s a guide for making group bookings on our website.\",\n",
    "            \"CustomerFeedback\": \"The guide missed some important steps for large group bookings.\"\n",
    "        },\n",
    "        {\n",
    "            \"Row_ID\": 9,\n",
    "            \"ProblemDescription\": \"Why hasn’t my booking for an extra seat been processed?\",\n",
    "            \"Resolution\": \"It takes up to 48 hours to confirm extra seat requests.\",\n",
    "            \"CustomerFeedback\": \"Agent didn’t check my specific request, just gave a standard response.\"\n",
    "        },\n",
    "        {\n",
    "            \"Row_ID\": 10,\n",
    "            \"ProblemDescription\": \"I need help with changing my flight date.\",\n",
    "            \"Resolution\": \"Here’s the link to change your booking online.\",\n",
    "            \"CustomerFeedback\": \"The website process was unclear and I couldn’t change my flight.\"\n",
    "        }\n",
    "    ]\n",
    "    return pd.DataFrame(sample_data)\n",
    "\n",
    "sample_data = create_sample_data()"
   ]
  },
  {
   "cell_type": "markdown",
   "id": "e70fae0d",
   "metadata": {},
   "source": [
    "# Pydantic models and definitions"
   ]
  },
  {
   "cell_type": "markdown",
   "id": "720cead2",
   "metadata": {},
   "source": [
    "## Category and labels for multiple option selection"
   ]
  },
  {
   "cell_type": "code",
   "execution_count": null,
   "id": "4693b67a",
   "metadata": {},
   "outputs": [],
   "source": [
    "LABELS = Literal['TIME_WAITING', 'POLICY', 'SERVICE_PROCESS', \n",
    "                'QUALITY_OF_RESOLUTION', 'SELF_HELP_RESOURCES','AGENT_MANNERS', \n",
    "                'AGENT_KNOWLEDGE', 'TECHNOLOGY', 'REPEATED_FOLLOW_UP']\n",
    "\n",
    "# Category definitions\n",
    "\n",
    "CATEGORY_DEFINITIONS = \"\"\"\n",
    "    'TIME_WAITING': 'Feedback that EXPLICITY mentions long call waiting times, call queue lengths, or delays in receiving responses. This includes complaints about waiting for responses or resolution timeframes.'\n",
    "    'POLICY': 'Feedback related to company policies, rules, or standard procedures that affect service delivery. This includes cases where policies are unclear, seem unfair, or limit service options.'\n",
    "    'SERVICE_PROCESS': 'Feedback related to how processes in services are delivered or tasks are completed. This includes difficult processes or complicated workflows.'\n",
    "    'QUALITY_OF_RESOLUTION': 'Feedback related to the customer\\'s problem not being resolved, or answered. This also includes where the customer indicates the resolution was generic or incomplete.'\n",
    "    'SELF_HELP_RESOURCES': 'Feedback related to QRG, website links, documentation, user guides, manuals, or other self-service materials. This includes unclear instructions, missing information, or difficult-to-use resources.'\n",
    "    'AGENT_MANNERS': 'Feedback that EXPLICITLY mentions the agent\\'s poor behavior towards customers. This includes specific mentions of rudeness, lack of empathy, being abrupt, dismissive, or any other unprofessional conduct. Do NOT apply this category for general complaints about resolution quality or service process.'\n",
    "    'AGENT_KNOWLEDGE': 'Feedback related to the agent\\'s expertise or understanding. This includes incorrect information, inability to explain clearly, or lack of technical knowledge.'\n",
    "    'TECHNOLOGY': 'Feedback related to systems, software, or technical infrastructure. This includes system errors, software bugs, or lack of ease of use with digital tools.'\n",
    "    'REPEATED_FOLLOW_UP': 'Feedback that EXPLICITLY mentions the customer having to follow-up multiple times on a request.'\n",
    "\"\"\"\n"
   ]
  },
  {
   "cell_type": "markdown",
   "id": "fab49834",
   "metadata": {},
   "source": [
    "## Pydantic Models"
   ]
  },
  {
   "cell_type": "code",
   "execution_count": null,
   "id": "2ad60f7f",
   "metadata": {},
   "outputs": [],
   "source": [
    "class TicketClassification(BaseModel):\n",
    "    '''Classification model for support tickets'''\n",
    "    \n",
    "    Category: List[LABELS] = Field(..., description='''\n",
    "        Analyze the CustomerFeedback and select one or more labels that apply to categorise the feedback. Use the ProblemDescription and Resolution to provide context.\n",
    "        Choose categories that best match the customer's feedback about their experience.\n",
    "    ''')\n",
    "    justification: str = Field(..., description='Explain why you selected these categories, referencing specific aspects of the ticket.')\n",
    "    confidence: float = Field(..., description=\"Confidence score between 0 and 1.\")\n",
    "    Sub_Category: List[str] = Field(..., description='''\n",
    "        Return one or two SUB-CATEGORY labels (sub-themes) that are most relevant to the specific topic being discussed.\n",
    "        Each sub-category MUST be in UPPER_SNAKE_CASE.\n",
    "        Use underscores between words, no punctuation or quotes.\n",
    "        Examples:\n",
    "        Feedback: I wasn’t informed why my refund was delayed.\n",
    "        Sub-theme: REFUND_COMMUNICATION_GAP\n",
    "        Feedback: The website process was unclear and I couldn’t change my flight.\n",
    "        Sub-theme: ONLINE_BOOKING_DIFFICULTY\n",
    "        \n",
    "    ''')\n",
    "    Sub_Category_Description: List[str] = Field(..., description=\"Short natural language descriptions for each sub-theme, used for clustering\")\n",
    "    \n",
    "    @field_validator('Sub_Category')\n",
    "    def validate_sub_category_format(cls, value):\n",
    "            if not (1 <= len(value) <= 2):\n",
    "                raise ValueError(\"sub_category must have 1 or 2 items only.\")\n",
    "\n",
    "            pattern = r'^[A-Z]+(_[A-Z]+)*$'\n",
    "            for sub in value:\n",
    "                if not re.match(pattern, sub):\n",
    "                    raise ValueError(f\"Invalid Sub_Category format: {sub}. Must be UPPER_SNAKE_CASE.\")\n",
    "            return value\n",
    "\n",
    "    @model_validator(mode='after')\n",
    "    def check_sub_not_in_category(self):\n",
    "        overlap = set(self.Category) & set(self.Sub_Category)\n",
    "        if overlap:\n",
    "            raise ValueError(f\"Sub-category must not repeat main Category label(s): {overlap}\")\n",
    "        return self\n",
    "    \n",
    "    Row_ID: int"
   ]
  },
  {
   "cell_type": "markdown",
   "id": "88a7e473",
   "metadata": {},
   "source": [
    "# Classification loop with prompt"
   ]
  },
  {
   "cell_type": "code",
   "execution_count": null,
   "id": "b3de1c78",
   "metadata": {},
   "outputs": [],
   "source": [
    "def classify_single_ticket(ticket: Dict) -> TicketClassification:\n",
    "        for attempt in range(3):\n",
    "            try:\n",
    "                prompt = (\n",
    "                f\"Analyze this support ticket and classify the CustomerFeedback into its main category and sub-category. The Field structures are as follows:\\n\\n\"\n",
    "                f\"1. CUSTOMER'S INITIAL REQUEST:\\n\"\n",
    "                f\"   {ticket['ProblemDescription']}\\n\"\n",
    "                f\"   (This is what the customer initially asked for or needed help with)\\n\\n\"\n",
    "                f\"2. AGENT'S RESOLUTION TO REQUEST:\\n\"\n",
    "                f\"   {ticket['Resolution']}\\n\"\n",
    "                f\"   (This is how the support agent attempted to resolve the request)\\n\\n\"\n",
    "                f\"3. CUSTOMER'S FEEDBACK:\\n\"\n",
    "                f\"   {ticket['CustomerFeedback']}\\n\"\n",
    "                f\"   (This is the customer's reaction to the support ticket, reflecting their satisfaction or dissatisfaction with the support experience, how they felt about the resolution, and any other comments regarding the service received)\\n\\n\"\n",
    "                f\"Ticket ID: {ticket['Row_ID']}\\n\\n\"\n",
    "                f\"Instructions for Classification:\\n\"\n",
    "                f\"1. FOCUS PRIMARILY ON THE CUSTOMERFEEDBACK AS IT IS THE PRIMARY DRIVER OF THE CLASSIFICATION\\n\"\n",
    "                f\"2. FOR THE MAIN CATEGORY, YOU MUST USE THE {CATEGORY_DEFINITIONS} to guide your classification. CONSIDER THESE CAREFULLY AND ADHERE TO THE DEFINITIONS WHEN CLASSIFYING.\\n\"\n",
    "                f\"3. FOR THE SUB-CATEGORY, PLEASE KEEP THE SUB-CATEGORY LABELS IN UPPER_SNAKE_CASE AND USE UNDERSCORES BETWEEN WORDS. Select AT MOST TWO SUB-CATEGORY LABELS that are most relevant to the specific topic being discussed\\n\"\n",
    "                f\"4  FOR THE SUB-CATEGORY, DONT REPEAT the exact same label from the {CATEGORY_DEFINITIONS}, the sub-category is a more specific topic and will be used to perform CLUSTERING\\n\" \n",
    "                f\"5. Compare the initial request (ProblemDescription) with the resolution provided and USE THIS AS CONTEXT\\n\"\n",
    "                f\"6. Provide classification that reflects one or more of the following categories that best describe the customer's feedback. If multiple categories apply, please list them all (separate categories with commas):\\n\\n\"\n",
    "                f\"7.For Sub_Category_Description, write a short, clear natural language sentence (1–2 lines max) that explains the core issue being described in the sub-category label — as if you were summarizing the customer's frustration or complaint to a service analyst. Make it specific, clusterable, and semantically rich (e.g., “The customer did not receive any update on the refund process after submitting the request.”).\"\n",
    "            )\n",
    "            \n",
    "                result = client.beta.chat.completions.parse(\n",
    "                    model=MODEL_NAME,\n",
    "                    messages=[{\"role\": \"user\", \"content\": prompt}],\n",
    "                    temperature=0,\n",
    "                    response_format=TicketClassification\n",
    "                    )\n",
    "                \n",
    "                \n",
    "                return result.choices[0].message.parsed\n",
    "\n",
    "            except Exception as e:\n",
    "                if attempt == 2:\n",
    "                    result = TicketClassification(\n",
    "                        Row_ID=ticket['Row_ID'],\n",
    "                        Category=[],\n",
    "                        Sub_Category=['UNKNOWN'],\n",
    "                        confidence=0,\n",
    "                        justification=f\"Classification failed after 3 attempts: {str(e)}\"\n",
    "                    )\n",
    "                    return result\n",
    "\n",
    "            time.sleep(1)"
   ]
  },
  {
   "cell_type": "markdown",
   "id": "e36203b2",
   "metadata": {},
   "source": [
    "# Main program execution control"
   ]
  },
  {
   "cell_type": "code",
   "execution_count": null,
   "id": "13685f5b",
   "metadata": {},
   "outputs": [],
   "source": [
    "if __name__ == \"__main__\":\n",
    "    start_time = time.time()\n",
    "    classified_results = []\n",
    "    tickets = sample_data.to_dict(orient=\"records\")\n",
    "    print(\"sample_data\")\n",
    "    print(sample_data)\n",
    "    for ticket in tickets:\n",
    "        result = classify_single_ticket(ticket)\n",
    "        classified_results.append(result.model_dump())\n",
    "        \n",
    "    results_df = pd.DataFrame(classified_results)\n",
    "    print(results_df)\n",
    "    final_df = pd.merge(\n",
    "        sample_data[['Row_ID', 'ProblemDescription', 'Resolution', 'CustomerFeedback']],\n",
    "        results_df,\n",
    "        on='Row_ID',\n",
    "        how='inner'\n",
    "    )\n",
    "    \n",
    "    print(final_df)\n",
    "    print(\"exporting to csv\")\n",
    "    final_df.to_csv(\"results_df.csv\", index=False)\n",
    "    print(f\"Execution time: {time.time() - start_time} seconds\")"
   ]
  }
 ],
 "metadata": {
  "language_info": {
   "name": "python"
  }
 },
 "nbformat": 4,
 "nbformat_minor": 5
}
