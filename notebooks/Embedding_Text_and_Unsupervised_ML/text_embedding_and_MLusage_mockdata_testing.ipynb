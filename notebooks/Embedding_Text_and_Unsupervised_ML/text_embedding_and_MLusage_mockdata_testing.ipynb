{
 "cells": [
  {
   "cell_type": "code",
   "execution_count": 1,
   "id": "907b59f7",
   "metadata": {},
   "outputs": [
    {
     "name": "stderr",
     "output_type": "stream",
     "text": [
      "/home/hmy/pck/repositories/text-classification-using-LLMs/text-classification-using-LLM-venv/lib/python3.10/site-packages/tqdm/auto.py:21: TqdmWarning: IProgress not found. Please update jupyter and ipywidgets. See https://ipywidgets.readthedocs.io/en/stable/user_install.html\n",
      "  from .autonotebook import tqdm as notebook_tqdm\n"
     ]
    }
   ],
   "source": [
    "import pandas as pd\n",
    "from typing import List, Literal, Dict\n",
    "from pydantic import BaseModel, Field, field_validator, model_validator, ValidationError\n",
    "from openai import OpenAI\n",
    "import time\n",
    "import os\n",
    "from dotenv import find_dotenv, load_dotenv\n",
    "import logging\n",
    "import tomli\n",
    "import re\n",
    "from sentence_transformers import SentenceTransformer\n",
    "from sklearn.cluster import KMeans\n",
    "from sklearn.preprocessing import normalize\n",
    "import pandas as pd\n",
    "import matplotlib.pyplot as plt\n",
    "from sklearn.metrics import silhouette_score\n",
    "from sklearn.cluster import AgglomerativeClustering\n",
    "from sklearn.metrics.pairwise import cosine_distances  # note: distance = 1 - similarity\n",
    "import pandas as pd\n",
    "from sklearn.cluster import BisectingKMeans"
   ]
  },
  {
   "cell_type": "markdown",
   "id": "d4efa0f4",
   "metadata": {},
   "source": [
    "# Embedder"
   ]
  },
  {
   "cell_type": "code",
   "execution_count": 2,
   "id": "bab1c441",
   "metadata": {},
   "outputs": [
    {
     "name": "stderr",
     "output_type": "stream",
     "text": [
      "<All keys matched successfully>\n"
     ]
    }
   ],
   "source": [
    "model = SentenceTransformer(\"nomic-ai/nomic-embed-text-v1.5\",trust_remote_code=True)"
   ]
  },
  {
   "cell_type": "markdown",
   "id": "3b2c4972",
   "metadata": {},
   "source": [
    "# Test Dataset"
   ]
  },
  {
   "cell_type": "code",
   "execution_count": 3,
   "id": "7dc41b03",
   "metadata": {},
   "outputs": [],
   "source": [
    "Sub_Category_Description = [['The customer received a generic response that did not address their specific query about flight bonuses.', 'The customer was directed to a link for guidelines instead of receiving a personalized explanation.'],\n",
    "['The customer did not receive a detailed explanation for the increased ticket cost.', 'The resolution provided was incomplete or generic, leaving the customer unsatisfied.'],\n",
    "['The customer did not receive specific details about the refund process for their canceled flight.', 'The customer was given a generic timeline without personalized information.'],\n",
    "['The customer is unable to access their flight booking details due to website issues.', \"The customer's problem was not resolved, and the advice provided was ineffective.\"],\n",
    "['The customer struggled to reset their password due to unclear instructions in the provided guide.', 'The guide provided for resetting the password was not clear or easy to follow.'],\n",
    "['The customer was not informed about the reasons for the delay in their refund processing.', 'The customer experienced a delay in the refund processing without any explanation from the support agent.'],\n",
    "['The customer found the compensation policy document too complicated and lacking clear answers.', \"The self-help resources provided were inadequate and did not address the customer's specific needs.\"],\n",
    "['The customer was not provided with complete instructions for making large group bookings.', \"The resolution provided did not fully address the customer's needs, leaving them with an incomplete solution.\"],\n",
    "[\"The agent provided a standard response without addressing the specific details of the customer's extra seat request.\", \"The customer's specific request for an extra seat was not understood or addressed by the agent.\"],\n",
    "['The customer struggled to navigate the website to change their flight booking.', 'The website instructions for changing a flight booking were unclear and difficult to follow.']]\n",
    "sentences = [desc for sublist in Sub_Category_Description for desc in sublist]\n",
    "\n"
   ]
  },
  {
   "cell_type": "markdown",
   "id": "f2f439bd",
   "metadata": {},
   "source": [
    "# Convert Embeddings for use in ML model"
   ]
  },
  {
   "cell_type": "code",
   "execution_count": 5,
   "id": "30abe6d4",
   "metadata": {},
   "outputs": [
    {
     "name": "stdout",
     "output_type": "stream",
     "text": [
      "(20, 768)\n"
     ]
    }
   ],
   "source": [
    "embeddings = model.encode(sentences)\n",
    "print(embeddings.shape)  # (4, 768) or similar"
   ]
  },
  {
   "cell_type": "markdown",
   "id": "1eec620b",
   "metadata": {},
   "source": [
    "# Cosine Similarity Test"
   ]
  },
  {
   "cell_type": "code",
   "execution_count": null,
   "id": "36a6aeee",
   "metadata": {},
   "outputs": [],
   "source": [
    "\n",
    "# Cosine Similarity\n",
    "\n",
    "from sentence_transformers import SentenceTransformer\n",
    "from sklearn.metrics.pairwise import cosine_similarity\n",
    "import numpy as np\n",
    "\n",
    "\n",
    "# Similarity matrix\n",
    "sim_matrix = cosine_similarity(embeddings)\n",
    "\n",
    "\n",
    "# Convert to DataFrame for better readability\n",
    "sim_df = pd.DataFrame(sim_matrix, index=sentences, columns=sentences)\n",
    "sim_df = sim_df.round(2)\n",
    "sim_df.to_csv(\"sim_df.csv\")"
   ]
  },
  {
   "cell_type": "markdown",
   "id": "50796a8c",
   "metadata": {},
   "source": [
    "# K-Means"
   ]
  },
  {
   "cell_type": "code",
   "execution_count": null,
   "id": "f6b10699",
   "metadata": {},
   "outputs": [],
   "source": [
    "# Number of clusters you want (tune as needed)\n",
    "num_clusters = 4\n",
    "\n",
    "# Normalize embeddings so KMeans clustering is closer to cosine similarity\n",
    "normalized_embeddings = normalize(embeddings)\n",
    "\n",
    "\n",
    "\n",
    "\n",
    "# Initialize and fit KMeans on normalized vectors\n",
    "kmeans = KMeans(n_clusters=num_clusters, random_state=42)\n",
    "kmeans.fit(normalized_embeddings)\n",
    "\n",
    "# Get cluster labels\n",
    "labels = kmeans.labels_\n",
    "\n",
    "# Create a DataFrame with sentences and their cluster labels\n",
    "clustered_df = pd.DataFrame({\n",
    "    'Sentence': sentences,\n",
    "    'Cluster': labels\n",
    "})\n",
    "\n",
    "print(clustered_df)\n",
    "\n",
    "# Optionally save to CSV\n",
    "clustered_df.to_csv(\"sentence_clusters.csv\", index=False)\n",
    "\n",
    "\n",
    "k_values = range(2, 10)\n",
    "\n",
    "inertia_list = []      # Sum of squared distances to closest cluster center (Elbow)\n",
    "silhouette_list = []   # Silhouette scores for each k\n",
    "\n",
    "for k in k_values:\n",
    "    kmeans = KMeans(n_clusters=k, random_state=42)\n",
    "    kmeans.fit(normalized_embeddings)\n",
    "    \n",
    "    inertia_list.append(kmeans.inertia_)\n",
    "    \n",
    "    labels = kmeans.labels_\n",
    "    silhouette_avg = silhouette_score(normalized_embeddings, labels)\n",
    "    silhouette_list.append(silhouette_avg)\n",
    "\n",
    "# Plot Elbow method\n",
    "plt.figure(figsize=(12, 5))\n",
    "\n",
    "plt.subplot(1, 2, 1)\n",
    "plt.plot(k_values, inertia_list, 'bo-')\n",
    "plt.xlabel('Number of clusters (k)')\n",
    "plt.ylabel('Inertia (Sum of squared distances)')\n",
    "plt.title('Elbow Method')\n",
    "\n",
    "# Plot Silhouette scores\n",
    "plt.subplot(1, 2, 2)\n",
    "plt.plot(k_values, silhouette_list, 'ro-')\n",
    "plt.xlabel('Number of clusters (k)')\n",
    "plt.ylabel('Silhouette Score')\n",
    "plt.title('Silhouette Scores')\n",
    "\n",
    "plt.tight_layout()\n",
    "plt.savefig('cluster_analysis.png')"
   ]
  },
  {
   "cell_type": "markdown",
   "id": "6e1e3cf4",
   "metadata": {},
   "source": [
    "# Agglomerative clustering\n"
   ]
  },
  {
   "cell_type": "code",
   "execution_count": null,
   "id": "8f2444d1",
   "metadata": {},
   "outputs": [],
   "source": [
    "\n",
    "\n",
    "# Calculate cosine distance matrix from embeddings\n",
    "cosine_dist = cosine_distances(embeddings)  # embeddings not normalized here\n",
    "\n",
    "# Number of clusters you want\n",
    "num_clusters = 3\n",
    "\n",
    "# Agglomerative clustering using precomputed cosine distances\n",
    "agglo = AgglomerativeClustering(n_clusters=num_clusters,metric = 'precomputed', linkage='average')\n",
    "labels = agglo.fit_predict(cosine_dist)\n",
    "\n",
    "# Put sentences and cluster labels in a DataFrame\n",
    "\n",
    "print(clustered_df)\n",
    "\n",
    "# Optionally save to CSV\n",
    "clustered_df.to_csv(\"sentence_clusters.csv\", index=False)\n"
   ]
  },
  {
   "cell_type": "markdown",
   "id": "917d33fe",
   "metadata": {},
   "source": [
    "# Bisecting K-Means"
   ]
  },
  {
   "cell_type": "code",
   "execution_count": 9,
   "id": "348913c1",
   "metadata": {},
   "outputs": [
    {
     "name": "stdout",
     "output_type": "stream",
     "text": [
      "                                             Sentence  Cluster\n",
      "0   The customer received a generic response that ...        0\n",
      "1   The customer was directed to a link for guidel...        2\n",
      "2   The customer did not receive a detailed explan...        0\n",
      "3   The resolution provided was incomplete or gene...        0\n",
      "4   The customer did not receive specific details ...        0\n",
      "5   The customer was given a generic timeline with...        0\n",
      "6   The customer is unable to access their flight ...        2\n",
      "7   The customer's problem was not resolved, and t...        0\n",
      "8   The customer struggled to reset their password...        1\n",
      "9   The guide provided for resetting the password ...        1\n",
      "10  The customer was not informed about the reason...        0\n",
      "11  The customer experienced a delay in the refund...        0\n",
      "12  The customer found the compensation policy doc...        3\n",
      "13  The self-help resources provided were inadequa...        3\n",
      "14  The customer was not provided with complete in...        2\n",
      "15  The resolution provided did not fully address ...        0\n",
      "16  The agent provided a standard response without...        2\n",
      "17  The customer's specific request for an extra s...        2\n",
      "18  The customer struggled to navigate the website...        2\n",
      "19  The website instructions for changing a flight...        1\n"
     ]
    }
   ],
   "source": [
    "normalized_embeddings = normalize(embeddings)\n",
    "bisecting_kmeans = BisectingKMeans(n_clusters=4, random_state=0)\n",
    "\n",
    "# Fit the model\n",
    "bisecting_kmeans.fit(normalized_embeddings)\n",
    "\n",
    "# Get cluster labels\n",
    "labels = bisecting_kmeans.labels_\n",
    "\n",
    "clustered_df = pd.DataFrame({'Sentence': sentences, 'Cluster': labels})\n",
    "\n",
    "print(clustered_df)\n",
    "clustered_df.to_csv(\"bisectingkmeans_sentence_clusters.csv\", index=False)"
   ]
  }
 ],
 "metadata": {
  "kernelspec": {
   "display_name": "text-classification-using-LLM-venv",
   "language": "python",
   "name": "python3"
  },
  "language_info": {
   "codemirror_mode": {
    "name": "ipython",
    "version": 3
   },
   "file_extension": ".py",
   "mimetype": "text/x-python",
   "name": "python",
   "nbconvert_exporter": "python",
   "pygments_lexer": "ipython3",
   "version": "3.10.12"
  }
 },
 "nbformat": 4,
 "nbformat_minor": 5
}
